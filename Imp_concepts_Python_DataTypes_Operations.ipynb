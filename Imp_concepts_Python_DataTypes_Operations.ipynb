{
  "nbformat": 4,
  "nbformat_minor": 0,
  "metadata": {
    "colab": {
      "provenance": []
    },
    "kernelspec": {
      "name": "python3",
      "display_name": "Python 3"
    },
    "language_info": {
      "name": "python"
    }
  },
  "cells": [
    {
      "cell_type": "code",
      "execution_count": null,
      "metadata": {
        "colab": {
          "base_uri": "https://localhost:8080/"
        },
        "id": "6PLJoK_q2WFT",
        "outputId": "b086d4ba-3066-456c-d581-8711082bb6cf"
      },
      "outputs": [
        {
          "output_type": "stream",
          "name": "stdout",
          "text": [
            "Hello World\n"
          ]
        }
      ],
      "source": [
        "print(\"Hello World\")"
      ]
    },
    {
      "cell_type": "code",
      "source": [
        "month=12"
      ],
      "metadata": {
        "id": "n7VuogepEVDq"
      },
      "execution_count": null,
      "outputs": []
    },
    {
      "cell_type": "code",
      "source": [
        "print(month)"
      ],
      "metadata": {
        "colab": {
          "base_uri": "https://localhost:8080/"
        },
        "id": "XMMKdAr8EedK",
        "outputId": "e7510950-f5c0-45d5-8ef0-7caacc8eb7d9"
      },
      "execution_count": null,
      "outputs": [
        {
          "output_type": "stream",
          "name": "stdout",
          "text": [
            "12\n"
          ]
        }
      ]
    },
    {
      "cell_type": "code",
      "source": [
        "print(3/2)"
      ],
      "metadata": {
        "colab": {
          "base_uri": "https://localhost:8080/"
        },
        "id": "GhB6IgJFEijJ",
        "outputId": "c78861c1-f40b-4158-f991-bdfd10c2c322"
      },
      "execution_count": null,
      "outputs": [
        {
          "output_type": "stream",
          "name": "stdout",
          "text": [
            "1.5\n"
          ]
        }
      ]
    },
    {
      "cell_type": "code",
      "source": [
        "print(4/2)"
      ],
      "metadata": {
        "colab": {
          "base_uri": "https://localhost:8080/"
        },
        "id": "wSX_vpmKFbna",
        "outputId": "42363c2f-6f9d-4751-eff7-fd74bc55d8c7"
      },
      "execution_count": null,
      "outputs": [
        {
          "output_type": "stream",
          "name": "stdout",
          "text": [
            "2.0\n"
          ]
        }
      ]
    },
    {
      "cell_type": "code",
      "source": [
        "print(4-2)"
      ],
      "metadata": {
        "colab": {
          "base_uri": "https://localhost:8080/"
        },
        "id": "Eu6DAGb7Fj3B",
        "outputId": "e6d9db9b-dd45-4cf8-bc8d-6124d175e07c"
      },
      "execution_count": null,
      "outputs": [
        {
          "output_type": "stream",
          "name": "stdout",
          "text": [
            "2\n"
          ]
        }
      ]
    },
    {
      "cell_type": "markdown",
      "source": [
        "A division always returns a float, any other operation returns an integer"
      ],
      "metadata": {
        "id": "EIFHDEyGFxYo"
      }
    },
    {
      "cell_type": "code",
      "source": [
        "type(7)"
      ],
      "metadata": {
        "colab": {
          "base_uri": "https://localhost:8080/"
        },
        "id": "DfW_2d43FvzW",
        "outputId": "e360c427-8776-4ed7-c20f-013e6cf95117"
      },
      "execution_count": null,
      "outputs": [
        {
          "output_type": "execute_result",
          "data": {
            "text/plain": [
              "int"
            ]
          },
          "metadata": {},
          "execution_count": 6
        }
      ]
    },
    {
      "cell_type": "markdown",
      "source": [
        "Data type of the object is integer"
      ],
      "metadata": {
        "id": "naKM-esvGE_U"
      }
    },
    {
      "cell_type": "code",
      "source": [
        "type(2.15)"
      ],
      "metadata": {
        "colab": {
          "base_uri": "https://localhost:8080/"
        },
        "id": "2Ia5hUiIGDlt",
        "outputId": "cd251a1b-3cd6-4702-fda2-258ca9938ad6"
      },
      "execution_count": null,
      "outputs": [
        {
          "output_type": "execute_result",
          "data": {
            "text/plain": [
              "float"
            ]
          },
          "metadata": {},
          "execution_count": 7
        }
      ]
    },
    {
      "cell_type": "markdown",
      "source": [
        "Data type of the object is float"
      ],
      "metadata": {
        "id": "wsacwQgrGMnF"
      }
    },
    {
      "cell_type": "code",
      "source": [
        "a=3\n",
        "b=float(a)\n",
        "print(b)"
      ],
      "metadata": {
        "colab": {
          "base_uri": "https://localhost:8080/"
        },
        "id": "NApgcs6NGI5T",
        "outputId": "2fdd4096-215e-434e-a04c-4e13d161468f"
      },
      "execution_count": null,
      "outputs": [
        {
          "output_type": "stream",
          "name": "stdout",
          "text": [
            "3.0\n"
          ]
        }
      ]
    },
    {
      "cell_type": "markdown",
      "source": [
        "An integer can be converted to a float and a float can be converted to an integer. When converting from int to float, python adds .0 in the end"
      ],
      "metadata": {
        "id": "ZnDa2bH2Gu6n"
      }
    },
    {
      "cell_type": "code",
      "source": [
        "w=3.14\n",
        "v=int(w)\n",
        "print(v)"
      ],
      "metadata": {
        "colab": {
          "base_uri": "https://localhost:8080/"
        },
        "id": "2C9vHvJnHAnI",
        "outputId": "74a9392e-f7e8-4b1e-ef0e-9a71ef87f788"
      },
      "execution_count": null,
      "outputs": [
        {
          "output_type": "stream",
          "name": "stdout",
          "text": [
            "3\n"
          ]
        }
      ]
    },
    {
      "cell_type": "markdown",
      "source": [
        "Here a float is converted to an integer. Python truncates the decimal values (removing) to convert to integer. For rounding off, you can use math.round()"
      ],
      "metadata": {
        "id": "jZSe-sbYHSFH"
      }
    },
    {
      "cell_type": "markdown",
      "source": [
        "*** imp interview qn *** \n",
        "Floats are an approximation to the number they represent.\n",
        "0.23 is stored as 0.230000000000000123\n"
      ],
      "metadata": {
        "id": "bahDmvwZIJuq"
      }
    },
    {
      "cell_type": "code",
      "source": [
        "print(0.23+0.23+0.23+0.23+0.23+0.23+0.23+0.23+0.23+0.23+0.23+0.23+0.23+0.23+0.23+0.23+0.23+0.23+0.23+0.23+0.23+0.23+0.23+0.23+0.23+0.23+0.23+0.23+0.23+0.23)\n",
        "print(0.23+0.23+0.23+0.23+0.23+0.23+0.23+0.23+0.23+0.23+0.23+0.23+0.23+0.23+0.23+0.23+0.23+0.23+0.23+0.23+0.23+0.23+0.23+0.23+0.23+0.23+0.23+0.23+0.23+0.23 == 6.9)\n"
      ],
      "metadata": {
        "colab": {
          "base_uri": "https://localhost:8080/"
        },
        "id": "7AHTetigHe2x",
        "outputId": "20f148fa-239f-467f-915b-6b101bb2aa50"
      },
      "execution_count": null,
      "outputs": [
        {
          "output_type": "stream",
          "name": "stdout",
          "text": [
            "6.900000000000006\n",
            "False\n"
          ]
        }
      ]
    },
    {
      "cell_type": "markdown",
      "source": [
        "0.23 added 30 times should be equal to 6.9. However as you see above, it is not so. This proves that floats are an approximation to the number they represent. \n",
        "The reason is precision."
      ],
      "metadata": {
        "id": "1rKKWGfNJFVL"
      }
    },
    {
      "cell_type": "code",
      "source": [
        "print(2.3*2.3)\n",
        "print(2.3)"
      ],
      "metadata": {
        "colab": {
          "base_uri": "https://localhost:8080/"
        },
        "id": "g2Ewq9h6Jbuh",
        "outputId": "260eacb1-bafe-43a8-e7c5-b00d0597a3fd"
      },
      "execution_count": null,
      "outputs": [
        {
          "output_type": "stream",
          "name": "stdout",
          "text": [
            "5.289999999999999\n",
            "2.3\n"
          ]
        }
      ]
    },
    {
      "cell_type": "code",
      "source": [
        "print(0.23+0.23+0.23+0.23+0.23+0.23+0.23+0.23+0.23+0.23+0.23+0.23+0.23+0.23+0.23+0.23+0.23+0.23+0.23+0.23+0.23+0.23+0.23+0.23+0.23+0.23+0.23+0.23+0.23+0.23)\n",
        "print(0.23+0.23+0.23+0.23+0.23+0.23+0.23+0.23+0.23+0.23+0.23+0.23+0.23+0.23+0.23+0.23+0.23+0.23+0.23+0.23+0.23+0.23+0.23+0.23+0.23+0.23+0.23+0.23+0.23+0.23 == 6.9)\n",
        "print(0.23*30)\n",
        "print(0.23*30 == 6.9)"
      ],
      "metadata": {
        "colab": {
          "base_uri": "https://localhost:8080/"
        },
        "id": "w9EyIBm5MOVB",
        "outputId": "cd0f910b-4fa7-4ba0-9961-1ee93eac978f"
      },
      "execution_count": null,
      "outputs": [
        {
          "output_type": "stream",
          "name": "stdout",
          "text": [
            "6.900000000000006\n",
            "False\n",
            "6.9\n",
            "True\n"
          ]
        }
      ]
    },
    {
      "cell_type": "markdown",
      "source": [
        "Multiplication is repeated addition. In case of addition, the approximation is getting added. In case of multiplication Python makes an optimization and ignores the approximation and inserts the original approximation. This is because Python knows it is going to do repeated addition."
      ],
      "metadata": {
        "id": "XEr7EX-UMxv3"
      }
    },
    {
      "cell_type": "markdown",
      "source": [
        "Variable Naming Conventions:\n",
        "There are some rules we need to follow while giving a name for a Python variable.\n",
        "\n",
        "Rule-1: You should start variable name with an alphabet or underscore(_) character.\n",
        "\n",
        "Rule-2: A variable name can only contain A-Z,a-z,0-9 and underscore(_).\n",
        "\n",
        "Rule-3: You cannot start the variable name with a number.\n",
        "\n",
        "Rule-4: You cannot use special characters with the variable name such as such as $,%,#,&,@.-,^ etc.\n",
        "\n",
        "Rule-5: Variable names are case sensitive. For example str and Str are two different variables.\n",
        "\n",
        "Rule-6: Do not use reserve keyword as a variable name for example keywords like class, for, def, del, is, else, try, from, etc. more examples are given below and as we go through the course we will come across many more. Creating names that are descriptive of the values often will help you avoid using any of these words."
      ],
      "metadata": {
        "id": "x2_FNUNo1cR1"
      }
    },
    {
      "cell_type": "code",
      "source": [
        "#Allowed variable names\n",
        "\n",
        "x=2\n",
        "y=\"Hello\"\n",
        "mypython=\"PythonGuides\"\n",
        "my_python=\"PythonGuides\"\n",
        "_my_python=\"PythonGuides\"\n",
        "_mypython=\"PythonGuides\"\n",
        "MYPYTHON=\"PythonGuides\"\n",
        "myPython=\"PythonGuides\"\n",
        "myPython7=\"PythonGuides\""
      ],
      "metadata": {
        "id": "prKpwwDAOTeh"
      },
      "execution_count": 1,
      "outputs": []
    },
    {
      "cell_type": "code",
      "source": [
        "#Variable name not Allowed\n",
        "\n",
        "7mypython=\"PythonGuides\"\n",
        "-mypython=\"PythonGuides\"\n",
        "myPy@thon=\"PythonGuides\"\n",
        "my Python=\"PythonGuides\"\n",
        "for=\"PythonGuides\"\n",
        "\n",
        "#It shows invalid syntax. \n",
        "#It will execute one by one and will show the error."
      ],
      "metadata": {
        "colab": {
          "base_uri": "https://localhost:8080/",
          "height": 131
        },
        "id": "UO2unY-Q1465",
        "outputId": "c70cabd8-99eb-4de7-d5db-c153d5fc7b83"
      },
      "execution_count": 2,
      "outputs": [
        {
          "output_type": "error",
          "ename": "SyntaxError",
          "evalue": "ignored",
          "traceback": [
            "\u001b[0;36m  File \u001b[0;32m\"<ipython-input-2-23d4199b4438>\"\u001b[0;36m, line \u001b[0;32m3\u001b[0m\n\u001b[0;31m    7mypython=\"PythonGuides\"\u001b[0m\n\u001b[0m     ^\u001b[0m\n\u001b[0;31mSyntaxError\u001b[0m\u001b[0;31m:\u001b[0m invalid syntax\n"
          ]
        }
      ]
    },
    {
      "cell_type": "markdown",
      "source": [
        "Also there are some naming convention that needs to be followed like:\n",
        "\n",
        "try to keep the name of the variables descriptive short but descriptive. for example: when taking inputs for the height of a tree of a box the appropriate variable name will be just height not x not h not height_of_the_tree.\n",
        "\n",
        "Also the pythonic way to name variables is to use all lowercase letters and underscores to separate words."
      ],
      "metadata": {
        "id": "ab0LN73u19A1"
      }
    },
    {
      "cell_type": "code",
      "source": [
        "# pythonic way\n",
        "\n",
        "my_height = 58\n",
        "my_lat = 40\n",
        "my_long = 105"
      ],
      "metadata": {
        "id": "bAe1D4MH2B1J"
      },
      "execution_count": 3,
      "outputs": []
    },
    {
      "cell_type": "code",
      "source": [
        "# not pythonic way\n",
        "my height = 58 # wont work\n",
        "MYLONG = 40    # will work still avoid using it\n",
        "MyLat = 105    # will work still avoid using it"
      ],
      "metadata": {
        "colab": {
          "base_uri": "https://localhost:8080/",
          "height": 131
        },
        "id": "PeqTu6e42FQs",
        "outputId": "e73b6c47-ee16-4d53-a97e-8ea0af4f7153"
      },
      "execution_count": 4,
      "outputs": [
        {
          "output_type": "error",
          "ename": "SyntaxError",
          "evalue": "ignored",
          "traceback": [
            "\u001b[0;36m  File \u001b[0;32m\"<ipython-input-4-0bc6c130fbea>\"\u001b[0;36m, line \u001b[0;32m2\u001b[0m\n\u001b[0;31m    my height = 58 # wont work\u001b[0m\n\u001b[0m       ^\u001b[0m\n\u001b[0;31mSyntaxError\u001b[0m\u001b[0;31m:\u001b[0m invalid syntax\n"
          ]
        }
      ]
    },
    {
      "cell_type": "markdown",
      "source": [
        "Though the last two of these would work in python, they are not pythonic ways to name variables. The way we name variables is called snake case, because we tend to connect the words with underscores.\n",
        "\n",
        "What if we want to change or update the value of a variable for example take the example of rent = 1700, suppose the rent has hiked and the new rent is 2000 we can just assign the variable its new value as:"
      ],
      "metadata": {
        "id": "nZJixvA92JU0"
      }
    },
    {
      "cell_type": "code",
      "source": [
        "rent = 1700\n",
        "rent = 2000\n",
        "print(rent)"
      ],
      "metadata": {
        "colab": {
          "base_uri": "https://localhost:8080/"
        },
        "id": "FrGRTPQl2NE6",
        "outputId": "324eedfa-ef34-43d5-d79a-87f5b262097a"
      },
      "execution_count": 5,
      "outputs": [
        {
          "output_type": "stream",
          "name": "stdout",
          "text": [
            "2000\n"
          ]
        }
      ]
    },
    {
      "cell_type": "markdown",
      "source": [
        "This is called overwriting the variable , i.e, When a new value is assigned to a variable, the old one is forgotten.\n",
        "\n",
        "If we had then caused some damages to the property during our crazy house party and we have to pay for them then we can just apply these changes directly to this variable."
      ],
      "metadata": {
        "id": "KvcQuSBz2QmO"
      }
    },
    {
      "cell_type": "code",
      "source": [
        "rent = 1700\n",
        "rent = 2000\n",
        "rent =rent + 700\n",
        "print(rent)"
      ],
      "metadata": {
        "colab": {
          "base_uri": "https://localhost:8080/"
        },
        "id": "wojF9rU32Ulp",
        "outputId": "7eb6cb49-470d-4b62-950d-4a038a203680"
      },
      "execution_count": 6,
      "outputs": [
        {
          "output_type": "stream",
          "name": "stdout",
          "text": [
            "2700\n"
          ]
        }
      ]
    },
    {
      "cell_type": "markdown",
      "source": [
        "in the line 3 the variable rent is being assigned to itself plus 700 which results to 2700.\n",
        "\n",
        "Because such increment and assignment operations are very common python has a very special assignment operator for this."
      ],
      "metadata": {
        "id": "P_QxGlUw2X8v"
      }
    },
    {
      "cell_type": "code",
      "source": [
        "rent = 1700\n",
        "rent = 2000\n",
        "rent += 700\n",
        "print(rent)"
      ],
      "metadata": {
        "colab": {
          "base_uri": "https://localhost:8080/"
        },
        "id": "M508fNuh2aQb",
        "outputId": "7b7192ad-2a20-4883-e69c-38fa7f964fc2"
      },
      "execution_count": 7,
      "outputs": [
        {
          "output_type": "stream",
          "name": "stdout",
          "text": [
            "2700\n"
          ]
        }
      ]
    },
    {
      "cell_type": "markdown",
      "source": [
        "we can actually use this += operator to tell python that we are incrementing the value on the left by the value on the right. += is a example of assignment operator -= *= /= are some more examples of assignment operators. All of these operators just apply arithmetic operation to the variable on the left with the value on the right which makes your code more concise and easier to read and understand."
      ],
      "metadata": {
        "id": "jsTJMfoF2dxI"
      }
    },
    {
      "cell_type": "markdown",
      "source": [
        "Integers and Floats:\n",
        "So far the numbers that we have dealt with were mostly whole numbers or integers, but as you may have notices that other types of numbers also do exist. For example dividing one integer by another gives us a number that isn't an integer, in python we represent such a number as a float, which is short for floating point number."
      ],
      "metadata": {
        "id": "hjk2I-tD2gdh"
      }
    },
    {
      "cell_type": "code",
      "source": [
        "print(3/2)"
      ],
      "metadata": {
        "colab": {
          "base_uri": "https://localhost:8080/"
        },
        "id": "PUQjifXt2mjo",
        "outputId": "71eeb7a6-bdfa-4d73-a135-e60eaa232520"
      },
      "execution_count": 8,
      "outputs": [
        {
          "output_type": "stream",
          "name": "stdout",
          "text": [
            "1.5\n"
          ]
        }
      ]
    },
    {
      "cell_type": "markdown",
      "source": [
        "Numbers with a decimal point, such as 3.14, are called floating-point numbers (or floats). Note that even though the value 42 is an integer, the value 42.0 would be a floating-point number. And if 2 integers are divided then also we get float as an answer.\n",
        "\n",
        "You can check the datatype of any value by using the builtin function of type, that returns the type of an object. Here as you can see they type of a number without a decimal and the type of a number with a decimal."
      ],
      "metadata": {
        "id": "7Ht9r_vR2p3Y"
      }
    },
    {
      "cell_type": "code",
      "source": [
        "a = 3\n",
        "b = 2.5\n",
        "\n",
        "print(type(a))\n",
        "print(type(b))"
      ],
      "metadata": {
        "colab": {
          "base_uri": "https://localhost:8080/"
        },
        "id": "Mvs-7yMq2tDw",
        "outputId": "8c895f51-f006-4f63-a597-67d1d882ef0a"
      },
      "execution_count": 9,
      "outputs": [
        {
          "output_type": "stream",
          "name": "stdout",
          "text": [
            "<class 'int'>\n",
            "<class 'float'>\n"
          ]
        }
      ]
    },
    {
      "cell_type": "markdown",
      "source": [
        "An operation involving an int and a float will always give float as its output. We can also covert one datatype to another by constructing new objects of those types with int and float.\n",
        "\n",
        "When we convert a float to an int the part after the decimal point is dropped and hence there is no rounding. eg 28.9 will be cut to 28.\n",
        "\n",
        "Similarly converting int to float just adds a decimal at the end of the number and a 0 after that. example 3 will become 3.0"
      ],
      "metadata": {
        "id": "0rgPCuGO2wmV"
      }
    },
    {
      "cell_type": "code",
      "source": [
        "a = float(3)\n",
        "b = int(28.9)\n",
        "print(a)\n",
        "print(b)"
      ],
      "metadata": {
        "colab": {
          "base_uri": "https://localhost:8080/"
        },
        "id": "U_l7CdV52zOD",
        "outputId": "ca60097f-261f-4ffc-eaac-debe1cfae53f"
      },
      "execution_count": 10,
      "outputs": [
        {
          "output_type": "stream",
          "name": "stdout",
          "text": [
            "3.0\n",
            "28\n"
          ]
        }
      ]
    },
    {
      "cell_type": "markdown",
      "source": [
        "Another point that you need to keep in mind is float are an approximation to the number they represent. As float can represent very large range of numbers python must use approximation to represent these numbers. For example this floating point number 0.23 is in reality slightly more than 0.23. such that if we add up 0.23 to itself a few times and check its equality to the expected resultant it will be different. Although the difference is very small but it exists never the less and you should know about it."
      ],
      "metadata": {
        "id": "6yTBMFfu23v6"
      }
    },
    {
      "cell_type": "code",
      "source": [
        "print(0.23 + 0.23 + 0.23 + 0.23 + 0.23 + 0.23\n",
        "       + 0.23 + 0.23 + 0.23 + 0.23 + 0.23 + 0.23\n",
        "       + 0.23 + 0.23 + 0.23 + 0.23 + 0.23 + 0.23\n",
        "       + 0.23 + 0.23 + 0.23 + 0.23 + 0.23 + 0.23\n",
        "       + 0.23 + 0.23 + 0.23 + 0.23+ 0.23 + 0.23 == 6.9)"
      ],
      "metadata": {
        "colab": {
          "base_uri": "https://localhost:8080/"
        },
        "id": "wCHMdc1l27bC",
        "outputId": "952e4687-2c4c-4687-ab4f-51af8b989b23"
      },
      "execution_count": 11,
      "outputs": [
        {
          "output_type": "stream",
          "name": "stdout",
          "text": [
            "False\n"
          ]
        }
      ]
    },
    {
      "cell_type": "markdown",
      "source": [
        "Boolean Datatype, Comparison and Logical Operators:\n",
        "Bool is another datatype that is commonly used in Python. Bool is short for Boolean which can have a value of either True or False. Boolean algebra is the branch of algebra in which the values of the variables are the truth values true or false. Boolean algebra us the framework on which all electronic devices and built and exists fundamentally in every line of code inside a computer. In python we can easily assign boolean values like this:"
      ],
      "metadata": {
        "id": "lSRNfLlF2_AL"
      }
    },
    {
      "cell_type": "code",
      "source": [
        "python_awsome = True\n",
        "doumentation_bad = False"
      ],
      "metadata": {
        "id": "BGQbYYbc3CZ5"
      },
      "execution_count": 12,
      "outputs": []
    },
    {
      "cell_type": "markdown",
      "source": [
        "We can use comparison operators to compare 2 values and produce boolean results like:"
      ],
      "metadata": {
        "id": "mspGhuLg3G69"
      }
    },
    {
      "cell_type": "code",
      "source": [
        "a = 3 > 1\n",
        "print(a)"
      ],
      "metadata": {
        "colab": {
          "base_uri": "https://localhost:8080/"
        },
        "id": "ozjqGgbo3I2K",
        "outputId": "044d25dc-e5ec-4a51-d005-f367af5f280d"
      },
      "execution_count": 13,
      "outputs": [
        {
          "output_type": "stream",
          "name": "stdout",
          "text": [
            "True\n"
          ]
        }
      ]
    },
    {
      "cell_type": "markdown",
      "source": [
        "Here 3 is greater than 1 so printing out the output gives us a boolean value to true. There are many comparison operators in python, as you can see here are all of them.\n",
        "\n",
        "As you will see the function of all these comparison operators are evident from their names itself these are less than, greater than , less than or equal to, greater than or equal to, not equal to.\n",
        "\n",
        "Working with boolean has its own set of operators called as logical operators. These operators very useful when working with boolean, and evaluates if both the sides are true, OR evaluates if atleast one side is true and not evaluates the inverse of the input boolean.\n",
        "\n",
        "Lets understand if via an example:"
      ],
      "metadata": {
        "id": "zZEvTyG43MOB"
      }
    },
    {
      "cell_type": "code",
      "source": [
        "rent = 1200\n",
        "is_affordable = rent > 1000 and rent < 2000\n",
        "\n",
        "print(is_affordable)"
      ],
      "metadata": {
        "colab": {
          "base_uri": "https://localhost:8080/"
        },
        "id": "pLkU43iQ3QLJ",
        "outputId": "d05bc9fa-8115-4dd3-f5ec-05c6752cf90a"
      },
      "execution_count": 14,
      "outputs": [
        {
          "output_type": "stream",
          "name": "stdout",
          "text": [
            "True\n"
          ]
        }
      ]
    },
    {
      "cell_type": "markdown",
      "source": [
        "Here we check if the rent of a house is affordable or not, here in the second line we evaluate both the sides ie rent > 1000, yes, so it is true while the second condition is rent < 200, that too is true. as both the condition on the left and right side of and is true hence the boolean value of true will be assigned to the is_affordable variable. In other words if the rent is greater than 1000 and less than 2000 then only it is affordable.\n",
        "\n",
        "And here you can see how not works:"
      ],
      "metadata": {
        "id": "EXN3bJ-Y3T6b"
      }
    },
    {
      "cell_type": "code",
      "source": [
        "rent = 1200\n",
        "is_affordable = not(rent > 1000 and rent < 2000) #\"not\" just inverts bool value\n",
        "\n",
        "print(is_affordable)"
      ],
      "metadata": {
        "colab": {
          "base_uri": "https://localhost:8080/"
        },
        "id": "wzzvYtmr3XJ_",
        "outputId": "88ab3c38-0848-4f7f-e3b1-b5e4f87fb593"
      },
      "execution_count": 15,
      "outputs": [
        {
          "output_type": "stream",
          "name": "stdout",
          "text": [
            "False\n"
          ]
        }
      ]
    },
    {
      "cell_type": "markdown",
      "source": [
        "Strings:\n",
        "Python has another datatype in its toolkit called as Strings, as the name suggest this datatype deals with characters words and text. String is a immutable order of sequences of characters (eg, Letters, numbers, spaces and symbols. We will be explaining what does immutable order means later on.\n",
        "\n",
        "You can create a string by using quotes as seen here, you can use either single / double quotes they both work equally well but there are some cases where you might prefer one over the other which we will be discussing below.\n",
        "\n"
      ],
      "metadata": {
        "id": "vEuy7ADT3Z9K"
      }
    },
    {
      "cell_type": "code",
      "source": [
        "# using Double Quotes\n",
        "print(\"Hello Ramya\")\n",
        "# using Single Quotes\n",
        "print('Hello Ramya')\n",
        "     "
      ],
      "metadata": {
        "colab": {
          "base_uri": "https://localhost:8080/"
        },
        "id": "IILlHPuu3coT",
        "outputId": "a2fdf595-45b9-4262-890f-982c49d1448c"
      },
      "execution_count": 16,
      "outputs": [
        {
          "output_type": "stream",
          "name": "stdout",
          "text": [
            "Hello Ramya\n",
            "Hello Ramya\n"
          ]
        }
      ]
    },
    {
      "cell_type": "markdown",
      "source": [
        "In this example we printed the word ShapeAI using single and double quotes and got the same output ShapeAI.\n",
        "\n",
        "We can also assign a string to a variable just like float and int."
      ],
      "metadata": {
        "id": "CVsQolfR3k8S"
      }
    },
    {
      "cell_type": "code",
      "source": [
        "motto = \"Learn | Code | Compete | Intern\" \n",
        "print(motto)"
      ],
      "metadata": {
        "colab": {
          "base_uri": "https://localhost:8080/"
        },
        "id": "IOo9HwT_3n79",
        "outputId": "56428717-b3a4-44fd-b68b-4da1f6d6da6b"
      },
      "execution_count": 17,
      "outputs": [
        {
          "output_type": "stream",
          "name": "stdout",
          "text": [
            "Learn | Code | Compete | Intern\n"
          ]
        }
      ]
    },
    {
      "cell_type": "markdown",
      "source": [
        "Strings in Python are shown as the variable type str.\n",
        "\n"
      ],
      "metadata": {
        "id": "aJS3ts9j3sXj"
      }
    },
    {
      "cell_type": "code",
      "source": [
        "type(motto)"
      ],
      "metadata": {
        "colab": {
          "base_uri": "https://localhost:8080/"
        },
        "id": "7urITgmP3vJl",
        "outputId": "0221f48b-41aa-4c92-c3b9-dfd361218d0c"
      },
      "execution_count": 18,
      "outputs": [
        {
          "output_type": "execute_result",
          "data": {
            "text/plain": [
              "str"
            ]
          },
          "metadata": {},
          "execution_count": 18
        }
      ]
    },
    {
      "cell_type": "markdown",
      "source": [
        "*String can contain any character number symbol space within the quotes.\n",
        "\n",
        "However if we want to have quotes inside the string we get an error.*"
      ],
      "metadata": {
        "id": "RpiLq5Ps3yto"
      }
    },
    {
      "cell_type": "code",
      "source": [
        "dialogue = \"shiva said, \"you learn as you grow\"\""
      ],
      "metadata": {
        "colab": {
          "base_uri": "https://localhost:8080/",
          "height": 131
        },
        "id": "EYlMY77A32tW",
        "outputId": "0a9097c8-e479-4846-89a1-dcfb7035a922"
      },
      "execution_count": 19,
      "outputs": [
        {
          "output_type": "error",
          "ename": "SyntaxError",
          "evalue": "ignored",
          "traceback": [
            "\u001b[0;36m  File \u001b[0;32m\"<ipython-input-19-2d8d4e434758>\"\u001b[0;36m, line \u001b[0;32m1\u001b[0m\n\u001b[0;31m    dialogue = \"shiva said, \"you learn as you grow\"\"\u001b[0m\n\u001b[0m                             ^\u001b[0m\n\u001b[0;31mSyntaxError\u001b[0m\u001b[0;31m:\u001b[0m invalid syntax\n"
          ]
        }
      ]
    },
    {
      "cell_type": "markdown",
      "source": [
        "Python provides 2 easy ways to handle such problem:\n",
        "\n",
        "Place the string in single quotes rather than double quotes. This will solve your problem for having double quotes within the string. But sometimes you will want to have both double and single quotes in your string in that case this will prove to be a problem."
      ],
      "metadata": {
        "id": "bSbgs_5q35uk"
      }
    },
    {
      "cell_type": "code",
      "source": [
        "dialogue = 'shiva said, \"you learn as you grow\"'\n",
        "print(dialogue)"
      ],
      "metadata": {
        "colab": {
          "base_uri": "https://localhost:8080/"
        },
        "id": "kKOPQFJj38l5",
        "outputId": "76b725f3-ed3a-4cb6-a63f-1d3c4f9775f7"
      },
      "execution_count": 20,
      "outputs": [
        {
          "output_type": "stream",
          "name": "stdout",
          "text": [
            "shiva said, \"you learn as you grow\"\n"
          ]
        }
      ]
    },
    {
      "cell_type": "markdown",
      "source": [
        "In that case we can use a backslash to skip quotes as you can see in this example. The backslash helps python to know that the the single quote should be interpreted as part of the string rather than the quote that ends the string."
      ],
      "metadata": {
        "id": "cXk2y7_U4AJB"
      }
    },
    {
      "cell_type": "code",
      "source": [
        "dialogue = '\"shiva you\\'re bag is red\"'\n",
        "print(dialogue)"
      ],
      "metadata": {
        "colab": {
          "base_uri": "https://localhost:8080/"
        },
        "id": "rfv7pdN04D7-",
        "outputId": "200534a7-dba8-4bf4-a0ff-c47941c10ea1"
      },
      "execution_count": 21,
      "outputs": [
        {
          "output_type": "stream",
          "name": "stdout",
          "text": [
            "\"shiva you're bag is red\"\n"
          ]
        }
      ]
    },
    {
      "cell_type": "markdown",
      "source": [
        "There are a few operators that we use on floats and ints that can also be used on strings. For example we can use the '+' to combine / concatenate 2 strings together and we can use '*' to repeat the string let us look at an example for each."
      ],
      "metadata": {
        "id": "JEF17ysP4H5G"
      }
    },
    {
      "cell_type": "code",
      "source": [
        "print(\"hello\" + \"world\")\n",
        "\n",
        "print(\"hello\" + \" \" + \"world\")"
      ],
      "metadata": {
        "colab": {
          "base_uri": "https://localhost:8080/"
        },
        "id": "STYjao3a4KPG",
        "outputId": "169849c2-14b9-4dfd-ac4b-f9bf3e0350d2"
      },
      "execution_count": 22,
      "outputs": [
        {
          "output_type": "stream",
          "name": "stdout",
          "text": [
            "helloworld\n",
            "hello world\n"
          ]
        }
      ]
    },
    {
      "cell_type": "markdown",
      "source": [
        "here in this example we can see that using the plus arithmetic operator we get helloworld* written together but this word that is printed out has no meaning, we need to have a space between both the words to have a meaning. We can add another string containing just a space in between the words to do so.*"
      ],
      "metadata": {
        "id": "xymMxa7a4OGe"
      }
    },
    {
      "cell_type": "code",
      "source": [
        "word = \"hello\"\n",
        "print(word * 5)"
      ],
      "metadata": {
        "colab": {
          "base_uri": "https://localhost:8080/"
        },
        "id": "vVSKToQr4PGB",
        "outputId": "4713fc61-e2c6-402e-d389-f27b8e93427d"
      },
      "execution_count": 23,
      "outputs": [
        {
          "output_type": "stream",
          "name": "stdout",
          "text": [
            "hellohellohellohellohello\n"
          ]
        }
      ]
    },
    {
      "cell_type": "markdown",
      "source": [
        "Now in the second example we can see that using the multiplication operator on a string we get repetition of the same word as many time as the number we multiplied the string by in the output.\n",
        "\n",
        "However unlike multiplication and addition operators the other arithmetic operators like division and subtraction cannot be used on strings any attempt to do so would result in an error that string is an unsupported datatype for the division/subtraction operator."
      ],
      "metadata": {
        "id": "7lQ40_4c4R9D"
      }
    },
    {
      "cell_type": "code",
      "source": [
        "word_1 = \"hello\"\n",
        "word_2 = \"world\"\n",
        "print(word_1 / word_2)"
      ],
      "metadata": {
        "colab": {
          "base_uri": "https://localhost:8080/",
          "height": 201
        },
        "id": "ZapY6iFE4VDR",
        "outputId": "a8852168-0106-4ed1-9fca-94941bae0e2d"
      },
      "execution_count": 24,
      "outputs": [
        {
          "output_type": "error",
          "ename": "TypeError",
          "evalue": "ignored",
          "traceback": [
            "\u001b[0;31m---------------------------------------------------------------------------\u001b[0m",
            "\u001b[0;31mTypeError\u001b[0m                                 Traceback (most recent call last)",
            "\u001b[0;32m<ipython-input-24-fe2364e5ae17>\u001b[0m in \u001b[0;36m<module>\u001b[0;34m\u001b[0m\n\u001b[1;32m      1\u001b[0m \u001b[0mword_1\u001b[0m \u001b[0;34m=\u001b[0m \u001b[0;34m\"hello\"\u001b[0m\u001b[0;34m\u001b[0m\u001b[0;34m\u001b[0m\u001b[0m\n\u001b[1;32m      2\u001b[0m \u001b[0mword_2\u001b[0m \u001b[0;34m=\u001b[0m \u001b[0;34m\"world\"\u001b[0m\u001b[0;34m\u001b[0m\u001b[0;34m\u001b[0m\u001b[0m\n\u001b[0;32m----> 3\u001b[0;31m \u001b[0mprint\u001b[0m\u001b[0;34m(\u001b[0m\u001b[0mword_1\u001b[0m \u001b[0;34m/\u001b[0m \u001b[0mword_2\u001b[0m\u001b[0;34m)\u001b[0m\u001b[0;34m\u001b[0m\u001b[0;34m\u001b[0m\u001b[0m\n\u001b[0m",
            "\u001b[0;31mTypeError\u001b[0m: unsupported operand type(s) for /: 'str' and 'str'"
          ]
        }
      ]
    },
    {
      "cell_type": "markdown",
      "source": [
        "A useful builtin function for string datatypes is len() which stands for length. As the name suggests (it returns the length of an object ie., it returns the no of characters in a string.\n",
        "\n",
        "It takes in values in a parenthesis and returns the length of the string. len() is a little different from print() as the value returned from length can be stored in a variable as seen in the example here. The len() function outputs a value 7 that is then stored in a variable called as word_length which is then printed out."
      ],
      "metadata": {
        "id": "a_8fJluo4X73"
      }
    },
    {
      "cell_type": "code",
      "source": [
        "word_length = len(\"ShapeAI\")\n",
        "print(word_length)"
      ],
      "metadata": {
        "colab": {
          "base_uri": "https://localhost:8080/"
        },
        "id": "M1MqKxPi4a3X",
        "outputId": "b8c27917-3fb6-454a-dc5a-45b13786c469"
      },
      "execution_count": 25,
      "outputs": [
        {
          "output_type": "stream",
          "name": "stdout",
          "text": [
            "7\n"
          ]
        }
      ]
    },
    {
      "cell_type": "markdown",
      "source": [
        "Question:\n",
        "In this question you have to print the accuracy logs of a model in training."
      ],
      "metadata": {
        "id": "qt4CHHWT4eSo"
      }
    },
    {
      "cell_type": "code",
      "source": [
        "model = \"VGG16\"\n",
        "iteration = \"150\"\n",
        "accuracy = \"67.98\"\n",
        "\n",
        "# TODO: print a log message using the variables above\n",
        "# This message should have the same format as this one:\n",
        "# \"the accuracy of ResNET50 model in 100th iteration is: 42.16%\""
      ],
      "metadata": {
        "id": "dI22BHhO4hf1"
      },
      "execution_count": 26,
      "outputs": []
    },
    {
      "cell_type": "markdown",
      "source": [
        "Question:\n",
        "Use string concatination and len() function to fing the length of a persons complete name and store it in the variable name_length.\n",
        "\n",
        "As a business card designer find if the name can fit into a business card."
      ],
      "metadata": {
        "id": "uyJz1Q_v4laq"
      }
    },
    {
      "cell_type": "code",
      "source": [
        "given_name = \"Rahul\"\n",
        "middle_names = \"Shastri\"\n",
        "family_name = \"Mishra\"\n",
        "\n",
        "name_length = #todo: calculate how long this name is\n",
        "\n",
        "# Now we check to make sure that the name fits within the driving license character limit\n",
        "# Nothing you need to do here\n",
        "driving_license_character_limit = 28\n",
        "print(name_length <= driving_license_character_limit)"
      ],
      "metadata": {
        "colab": {
          "base_uri": "https://localhost:8080/",
          "height": 131
        },
        "id": "jJozw4x_4nvS",
        "outputId": "ea6db506-107d-461b-b67f-7ccb3ea68981"
      },
      "execution_count": 27,
      "outputs": [
        {
          "output_type": "error",
          "ename": "SyntaxError",
          "evalue": "ignored",
          "traceback": [
            "\u001b[0;36m  File \u001b[0;32m\"<ipython-input-27-11af01ecffde>\"\u001b[0;36m, line \u001b[0;32m5\u001b[0m\n\u001b[0;31m    name_length = #todo: calculate how long this name is\u001b[0m\n\u001b[0m                  ^\u001b[0m\n\u001b[0;31mSyntaxError\u001b[0m\u001b[0;31m:\u001b[0m invalid syntax\n"
          ]
        }
      ]
    },
    {
      "cell_type": "markdown",
      "source": [
        "Type and Type Conversion Revision:\n",
        "Till now we have covered 4 different datatypes int, float, bool and string. As you can recall from the previous classes python has a builtin function called as type that returns the type of an object."
      ],
      "metadata": {
        "id": "23muwYql4rZp"
      }
    },
    {
      "cell_type": "code",
      "source": [
        "print(type(75))\n",
        "print(type(75.0))\n",
        "print(type(\"75\"))\n",
        "print(type(True))"
      ],
      "metadata": {
        "colab": {
          "base_uri": "https://localhost:8080/"
        },
        "id": "ed8vGf5b4ubM",
        "outputId": "25cd3b24-5de8-424c-b4f8-36d6f1e0208f"
      },
      "execution_count": 28,
      "outputs": [
        {
          "output_type": "stream",
          "name": "stdout",
          "text": [
            "<class 'int'>\n",
            "<class 'float'>\n",
            "<class 'str'>\n",
            "<class 'bool'>\n"
          ]
        }
      ]
    },
    {
      "cell_type": "markdown",
      "source": [
        "Look at the code example we can see that even though the first 3 values appear to be same they can be encoded into different datatypes each with their own set of functions operations and uses.\n",
        "\n",
        "This is to note that here we have called the function print on another function type to output the return value of the function type. In such a case always the function inside the parenthesis is run first ie. here it will be type.\n",
        "\n",
        "Different types have different properties with their own set of functions operations and uses and hence while choosing a variable you need to choose the correct set of datatype for it depending upon how you care going to use it this is very important.\n",
        "\n",
        "There might be sometimes when you don't have the control over the type of the data being provided to you like one that has been received from a user as in input. But the good news is that python allows you to create new objects from old and change the datatypes for these new objects. As we had previously seen in the integers and floats video.\n",
        "\n",
        "For example here we created a float ie 3.0 from an int 3 and assigned it to a new variable called decimal"
      ],
      "metadata": {
        "id": "SrtWjJ0c4x2K"
      }
    },
    {
      "cell_type": "code",
      "source": [
        "decimal = float(3)\n",
        "print(decimal)\n",
        "print(type(decimal))"
      ],
      "metadata": {
        "colab": {
          "base_uri": "https://localhost:8080/"
        },
        "id": "6Tq3evYq41QY",
        "outputId": "5a8a2608-21d9-4402-ea78-16cf6ce49f39"
      },
      "execution_count": 29,
      "outputs": [
        {
          "output_type": "stream",
          "name": "stdout",
          "text": [
            "3.0\n",
            "<class 'float'>\n"
          ]
        }
      ]
    },
    {
      "cell_type": "markdown",
      "source": [
        "In this next example we created a string from the integer variable marks and used that to create a larger string."
      ],
      "metadata": {
        "id": "xyzaS3gL46yk"
      }
    },
    {
      "cell_type": "code",
      "source": [
        "marks = 15\n",
        "subject = \"coding\"\n",
        "semester = \"first\"\n",
        "\n",
        "result = \"I scored \" + str(marks) + \" in \" + subject + \" during my \" + semester + \" semester.\"\n",
        "print(result)"
      ],
      "metadata": {
        "colab": {
          "base_uri": "https://localhost:8080/"
        },
        "id": "2ZAtUk_q49RZ",
        "outputId": "ef2e5d9e-3a70-4f8b-8041-52a352d7bd69"
      },
      "execution_count": 30,
      "outputs": [
        {
          "output_type": "stream",
          "name": "stdout",
          "text": [
            "I scored 15 in coding during my first semester.\n"
          ]
        }
      ]
    },
    {
      "cell_type": "markdown",
      "source": [
        "we can also create an float from string"
      ],
      "metadata": {
        "id": "e1i5DfRn5AMY"
      }
    },
    {
      "cell_type": "code",
      "source": [
        "marks = \"15\"\n",
        "print(type(marks))\n",
        "\n",
        "marks = float(marks)\n",
        "print(type(marks))"
      ],
      "metadata": {
        "colab": {
          "base_uri": "https://localhost:8080/"
        },
        "id": "tNY-4I_g5DFy",
        "outputId": "ee2b308f-48df-4db3-d0c6-b3ebb509177e"
      },
      "execution_count": 31,
      "outputs": [
        {
          "output_type": "stream",
          "name": "stdout",
          "text": [
            "<class 'str'>\n",
            "<class 'float'>\n"
          ]
        }
      ]
    },
    {
      "cell_type": "markdown",
      "source": [
        "Question:\n",
        "In this quiz, you’ll need to change the types of the input and output data in order to get the result you want.\n",
        "\n",
        "Calculate and print the total sales for the week from the data provided. Print out a string of the form \"This week's total sales: xxx\", where xxx will be the actual total of all the numbers. You’ll need to change the type of the input data in order to calculate that total."
      ],
      "metadata": {
        "id": "YuGTZD8f5HN2"
      }
    },
    {
      "cell_type": "code",
      "source": [
        "mon_sales = \"121\"\n",
        "tues_sales = \"105\"\n",
        "wed_sales = \"110\"\n",
        "thurs_sales = \"98\"\n",
        "fri_sales = \"95\"\n",
        "\n",
        "#TODO: Print a string with this format: This week's total sales: xxx\n",
        "# You will probably need to write some lines of code before the print statement.\n",
        "total_sales = (float(mon_sales) + float(tues_sales) + float(wed_sales) \n",
        "                + float(thurs_sales) + float(fri_sales))\n",
        "print(\"This week\\'s total sales: \" + str(total_sales))"
      ],
      "metadata": {
        "colab": {
          "base_uri": "https://localhost:8080/"
        },
        "id": "UC1UJbjY5JpC",
        "outputId": "b6c7e6bd-0c99-4802-948a-4c2a8689fe61"
      },
      "execution_count": 32,
      "outputs": [
        {
          "output_type": "stream",
          "name": "stdout",
          "text": [
            "This week's total sales: 529.0\n"
          ]
        }
      ]
    },
    {
      "cell_type": "markdown",
      "source": [
        "One important string method: format()\n",
        "We will be using the format() string method a good bit in our future work in Python, and you will find it very valuable in your coding, especially with your print statements.\n",
        "\n",
        "We can best illustrate how to use format() by looking at some examples:"
      ],
      "metadata": {
        "id": "Xu2Vdcx15PMQ"
      }
    },
    {
      "cell_type": "code",
      "source": [
        "# Example 1\n",
        "print(\"EG:1\")\n",
        "print(\"Mohammed has {} balloons\".format(27))\n",
        "\n",
        "# Example 2\n",
        "print(\"EG:2\")\n",
        "animal = \"dog\"\n",
        "action = \"bite\"\n",
        "print(\"Does your {} {}?\".format(animal, action))\n",
        "\n",
        "# Example 3\n",
        "print(\"EG:3\")\n",
        "maria_string = \"Maria loves {} and {}\"\n",
        "print(maria_string.format(\"math\",\"statistics\"))"
      ],
      "metadata": {
        "colab": {
          "base_uri": "https://localhost:8080/"
        },
        "id": "W0qGXpGN5SFJ",
        "outputId": "c658fe1a-868a-4d21-f54d-fe2be9b06f20"
      },
      "execution_count": 33,
      "outputs": [
        {
          "output_type": "stream",
          "name": "stdout",
          "text": [
            "EG:1\n",
            "Mohammed has 27 balloons\n",
            "EG:2\n",
            "Does your dog bite?\n",
            "EG:3\n",
            "Maria loves math and statistics\n"
          ]
        }
      ]
    },
    {
      "cell_type": "markdown",
      "source": [
        "Notice how in each example, the number of pairs of curly braces {} you use inside the string is the same as the number of replacements you want to make using the values inside format().\n",
        "\n",
        "More advanced students can learn more about the formal syntax for using the format() string method here."
      ],
      "metadata": {
        "id": "xBzuW21N5Vue"
      }
    },
    {
      "cell_type": "markdown",
      "source": [
        "Lists and Membership Operators:\n",
        "Data structures are containers that organize and group data types together in different ways. A list is one of the most common and basic data structures in Python. It is a mutable ordered sequence of elements.\n",
        "\n",
        "The code below defines a variable students which contains a list of strings. Each element in the list is a string that signifies the name of a student.\n",
        "\n",
        "The data inside a list can be a mixture of any number and combination of diffrent data types."
      ],
      "metadata": {
        "id": "B3_dWErZ5Y1v"
      }
    },
    {
      "cell_type": "code",
      "source": [
        "students = ['sam', 'pam', 'rocky', 'austin', 'steve', 'banner']"
      ],
      "metadata": {
        "id": "ZCZ2cLbO5cJZ"
      },
      "execution_count": 34,
      "outputs": []
    },
    {
      "cell_type": "markdown",
      "source": [
        "List are ordered, we can look up individual elements by their index, we can look elements from a list just like we have done below."
      ],
      "metadata": {
        "id": "-J0y0q3D5fhV"
      }
    },
    {
      "cell_type": "code",
      "source": [
        "print(students[0])\n",
        "print(students[1])\n",
        "print(students[2])"
      ],
      "metadata": {
        "colab": {
          "base_uri": "https://localhost:8080/"
        },
        "id": "aMl2SC9P5hnY",
        "outputId": "6595d295-3490-4160-8449-1f6f950c5ab7"
      },
      "execution_count": 35,
      "outputs": [
        {
          "output_type": "stream",
          "name": "stdout",
          "text": [
            "sam\n",
            "pam\n",
            "rocky\n"
          ]
        }
      ]
    },
    {
      "cell_type": "markdown",
      "source": [
        "Notice that the first element in the list is accessed by the index 0, many programming language follow this convection called as zero based indexing.\n",
        "\n",
        "We can also access the elements from the end of the list using negative index as seen in the examples below."
      ],
      "metadata": {
        "id": "lfyTlyX85kh2"
      }
    },
    {
      "cell_type": "code",
      "source": [
        "print(students[-1])\n",
        "print(students[-2])\n",
        "print(students[-3])"
      ],
      "metadata": {
        "colab": {
          "base_uri": "https://localhost:8080/"
        },
        "id": "yBNU8iKL5pym",
        "outputId": "f4b86ee0-1a4a-4f25-cb0c-71b094caf18d"
      },
      "execution_count": 36,
      "outputs": [
        {
          "output_type": "stream",
          "name": "stdout",
          "text": [
            "banner\n",
            "steve\n",
            "austin\n"
          ]
        }
      ]
    },
    {
      "cell_type": "markdown",
      "source": [
        "\n",
        "If you try to access an index in a list that doesn't exist then you will get an Error as seen below."
      ],
      "metadata": {
        "id": "8OPd2J885tpL"
      }
    },
    {
      "cell_type": "code",
      "source": [
        "print(students[20])"
      ],
      "metadata": {
        "colab": {
          "base_uri": "https://localhost:8080/",
          "height": 166
        },
        "id": "UMNm_DYm5w9q",
        "outputId": "51e381f4-662f-490d-bcf4-2a4f78c06a3b"
      },
      "execution_count": 37,
      "outputs": [
        {
          "output_type": "error",
          "ename": "IndexError",
          "evalue": "ignored",
          "traceback": [
            "\u001b[0;31m---------------------------------------------------------------------------\u001b[0m",
            "\u001b[0;31mIndexError\u001b[0m                                Traceback (most recent call last)",
            "\u001b[0;32m<ipython-input-37-83fc5f7cb36c>\u001b[0m in \u001b[0;36m<module>\u001b[0;34m\u001b[0m\n\u001b[0;32m----> 1\u001b[0;31m \u001b[0mprint\u001b[0m\u001b[0;34m(\u001b[0m\u001b[0mstudents\u001b[0m\u001b[0;34m[\u001b[0m\u001b[0;36m20\u001b[0m\u001b[0;34m]\u001b[0m\u001b[0;34m)\u001b[0m\u001b[0;34m\u001b[0m\u001b[0;34m\u001b[0m\u001b[0m\n\u001b[0m",
            "\u001b[0;31mIndexError\u001b[0m: list index out of range"
          ]
        }
      ]
    },
    {
      "cell_type": "markdown",
      "source": [
        "Question:\n",
        "Try to use len() to pull the last element from the above list"
      ],
      "metadata": {
        "id": "CvM1wyJ_51Zk"
      }
    },
    {
      "cell_type": "code",
      "source": [
        "# TODO: write your code here\n",
        "students[len(students)-1]"
      ],
      "metadata": {
        "colab": {
          "base_uri": "https://localhost:8080/",
          "height": 35
        },
        "id": "cSvkAr1B53pz",
        "outputId": "9215727c-79b1-4238-ba3a-7e056ccbd26d"
      },
      "execution_count": 38,
      "outputs": [
        {
          "output_type": "execute_result",
          "data": {
            "text/plain": [
              "'banner'"
            ],
            "application/vnd.google.colaboratory.intrinsic+json": {
              "type": "string"
            }
          },
          "metadata": {},
          "execution_count": 38
        }
      ]
    },
    {
      "cell_type": "markdown",
      "source": [
        "Membership Operators:[Lists]\n",
        "In addition to accessing individual elements froma a list, we can use pythons sliceing notation to access a subsequence of a list.\n",
        "\n",
        "Slicing means using indicies to slice off parts of an object like list/string. Look at an example"
      ],
      "metadata": {
        "id": "Ml-lbuSv5732"
      }
    },
    {
      "cell_type": "code",
      "source": [
        "students = ['sam', 'pam', 'rocky', 'austin', 'steve', 'banner', 'tony', 'bruce', \n",
        "            'henry', 'clark', 'diana']\n",
        "student = \"Barry\"\n",
        "\n",
        "# slice a particular range\n",
        "marvel = students[4:7]\n",
        "flash = student[1:3]\n",
        "\n",
        "print(marvel)\n",
        "print(flash)\n",
        "     "
      ],
      "metadata": {
        "colab": {
          "base_uri": "https://localhost:8080/"
        },
        "id": "XKu_e2Xy6AAq",
        "outputId": "d6d11914-1f3c-4199-b7ed-dc437fc841f2"
      },
      "execution_count": 39,
      "outputs": [
        {
          "output_type": "stream",
          "name": "stdout",
          "text": [
            "['steve', 'banner', 'tony']\n",
            "ar\n"
          ]
        }
      ]
    },
    {
      "cell_type": "code",
      "source": [
        "# slice from the end\n",
        "dc = students[7:]\n",
        "flash = student[1:]\n",
        "\n",
        "print(dc)\n",
        "print(flash)"
      ],
      "metadata": {
        "colab": {
          "base_uri": "https://localhost:8080/"
        },
        "id": "ICZab4EN6EhN",
        "outputId": "7135d7b8-5c13-425e-f69d-72c9dd15fbac"
      },
      "execution_count": 40,
      "outputs": [
        {
          "output_type": "stream",
          "name": "stdout",
          "text": [
            "['bruce', 'henry', 'clark', 'diana']\n",
            "arry\n"
          ]
        }
      ]
    },
    {
      "cell_type": "code",
      "source": [
        "# slice from the begining\n",
        "normal = students[:4]\n",
        "flash = student[:3]\n",
        "\n",
        "print(normal)\n",
        "print(flash)"
      ],
      "metadata": {
        "colab": {
          "base_uri": "https://localhost:8080/"
        },
        "id": "MBjasua06IMZ",
        "outputId": "7e303db4-876e-4ce0-cab5-74a13d14d5a7"
      },
      "execution_count": 41,
      "outputs": [
        {
          "output_type": "stream",
          "name": "stdout",
          "text": [
            "['sam', 'pam', 'rocky', 'austin']\n",
            "Bar\n"
          ]
        }
      ]
    },
    {
      "cell_type": "code",
      "source": [
        "# length of the list and the string\n",
        "print(len(students))\n",
        "print(len(student))"
      ],
      "metadata": {
        "colab": {
          "base_uri": "https://localhost:8080/"
        },
        "id": "0oPAcZZA6LSV",
        "outputId": "6a099d5d-3d28-4251-90dc-0999dfad12b1"
      },
      "execution_count": 42,
      "outputs": [
        {
          "output_type": "stream",
          "name": "stdout",
          "text": [
            "11\n",
            "5\n"
          ]
        }
      ]
    },
    {
      "cell_type": "markdown",
      "source": [
        "Of the types we have seen lists are most familier to strings, both supports the len() function, indexing and slicing.\n",
        "\n",
        "Here above you have seen that the length of a string is the no of characters in the string, while the length of a list is the no of elements in the list.\n",
        "\n",
        "Another thing that they both supports aare membership operators:\n",
        "\n",
        "in: evaluates if an object on the left side is included in the object on the right side.\n",
        "not in: evaluates if object on left side is not included in object on right side."
      ],
      "metadata": {
        "id": "yWxd2sC66OVH"
      }
    },
    {
      "cell_type": "code",
      "source": [
        "greeting = \"Hello there\"\n",
        "print('her' in greeting, 'her' not in greeting)"
      ],
      "metadata": {
        "colab": {
          "base_uri": "https://localhost:8080/"
        },
        "id": "rwPbEowY6SWY",
        "outputId": "df6113c1-eb6d-46dd-e63b-248357e6041c"
      },
      "execution_count": 43,
      "outputs": [
        {
          "output_type": "stream",
          "name": "stdout",
          "text": [
            "True False\n"
          ]
        }
      ]
    },
    {
      "cell_type": "code",
      "source": [
        "print('ShapeAI' in students, 'ShapeAI' not in students)"
      ],
      "metadata": {
        "colab": {
          "base_uri": "https://localhost:8080/"
        },
        "id": "qcKmTbWD6VFn",
        "outputId": "33031dc5-5c61-4707-b205-f90b0d5ae875"
      },
      "execution_count": 44,
      "outputs": [
        {
          "output_type": "stream",
          "name": "stdout",
          "text": [
            "False True\n"
          ]
        }
      ]
    },
    {
      "cell_type": "markdown",
      "source": [
        "Mutability and Order:\n",
        "So how are Lists diffrent from Strings, both supporst slicing, indexing, in and not in operators.\n",
        "\n",
        "The most obvious diffrence between them is that string is a sequence of characters while list's elements can be any type of bojects string, integers, floats orr bools.\n",
        "\n",
        "A more important diference is that lists can be modified but string can't. Look at the example below to understand more."
      ],
      "metadata": {
        "id": "5Wu_UhOk6YUY"
      }
    },
    {
      "cell_type": "code",
      "source": [
        "students = ['sam', 'pam', 'rocky', 'austin', 'steve', 'banner', 'tony', 'bruce', \n",
        "            'henry', 'clark', 'diana']\n",
        "\n",
        "students[2] = 'ben'\n",
        "print(students)\n",
        "     "
      ],
      "metadata": {
        "colab": {
          "base_uri": "https://localhost:8080/"
        },
        "id": "aWK0pis26dBt",
        "outputId": "e832bd44-777f-4ce4-dcc7-ff12c706f2d6"
      },
      "execution_count": 45,
      "outputs": [
        {
          "output_type": "stream",
          "name": "stdout",
          "text": [
            "['sam', 'pam', 'ben', 'austin', 'steve', 'banner', 'tony', 'bruce', 'henry', 'clark', 'diana']\n"
          ]
        }
      ]
    },
    {
      "cell_type": "code",
      "source": [
        "student = \"Barry\"\n",
        "student[1] = \"e\"\n",
        "print(student)"
      ],
      "metadata": {
        "colab": {
          "base_uri": "https://localhost:8080/",
          "height": 201
        },
        "id": "QkLhBDXt6gkf",
        "outputId": "be07a30b-3b4d-47d6-cb5a-af1f95673caa"
      },
      "execution_count": 46,
      "outputs": [
        {
          "output_type": "error",
          "ename": "TypeError",
          "evalue": "ignored",
          "traceback": [
            "\u001b[0;31m---------------------------------------------------------------------------\u001b[0m",
            "\u001b[0;31mTypeError\u001b[0m                                 Traceback (most recent call last)",
            "\u001b[0;32m<ipython-input-46-45fd42fac3cd>\u001b[0m in \u001b[0;36m<module>\u001b[0;34m\u001b[0m\n\u001b[1;32m      1\u001b[0m \u001b[0mstudent\u001b[0m \u001b[0;34m=\u001b[0m \u001b[0;34m\"Barry\"\u001b[0m\u001b[0;34m\u001b[0m\u001b[0;34m\u001b[0m\u001b[0m\n\u001b[0;32m----> 2\u001b[0;31m \u001b[0mstudent\u001b[0m\u001b[0;34m[\u001b[0m\u001b[0;36m1\u001b[0m\u001b[0;34m]\u001b[0m \u001b[0;34m=\u001b[0m \u001b[0;34m\"e\"\u001b[0m\u001b[0;34m\u001b[0m\u001b[0;34m\u001b[0m\u001b[0m\n\u001b[0m\u001b[1;32m      3\u001b[0m \u001b[0mprint\u001b[0m\u001b[0;34m(\u001b[0m\u001b[0mstudent\u001b[0m\u001b[0;34m)\u001b[0m\u001b[0;34m\u001b[0m\u001b[0;34m\u001b[0m\u001b[0m\n",
            "\u001b[0;31mTypeError\u001b[0m: 'str' object does not support item assignment"
          ]
        }
      ]
    },
    {
      "cell_type": "markdown",
      "source": [
        "Mutability is about whether or not we can change an object once it has been created. If an object (like a list or string) can be changed (like a list can), then it is called mutable. However, if an object cannot be changed without creating a completely new object (like strings), then the object is considered immutable.\n",
        "\n",
        "Order is about whether the position of an element in the object can be used to access the element. Both strings and lists are ordered. We can use the order to access parts of a list and string.\n",
        "\n",
        "However, you will see some data types in the next sections that will be unordered. For each of the upcoming data structures you see, it is useful to understand how you index, are they mutable, and are they ordered. Knowing this about the data structure is really useful!\n",
        "\n",
        "Additionally, you will see how these each have different methods, so why you would use one data structure vs. another is largely dependent on these properties, and what you can easily do with it!\n",
        "\n",
        "Previously when we created a variable that heald an immutable object like string, the value of the immutable object was saved in memory. Like as you can see below"
      ],
      "metadata": {
        "id": "uZNyl6yC6juW"
      }
    },
    {
      "cell_type": "code",
      "source": [
        "student = \"pam\"\n",
        "character = student\n",
        "print(character)\n",
        "character = \"peter\"\n",
        "print(character)\n",
        "print(student)"
      ],
      "metadata": {
        "colab": {
          "base_uri": "https://localhost:8080/"
        },
        "id": "auubyPMw6nJ2",
        "outputId": "4aebdb0d-ac0a-436d-dc58-09e6a4991953"
      },
      "execution_count": 47,
      "outputs": [
        {
          "output_type": "stream",
          "name": "stdout",
          "text": [
            "pam\n",
            "peter\n",
            "pam\n"
          ]
        }
      ]
    },
    {
      "cell_type": "markdown",
      "source": [
        "Lists are diffrent from strings as they are mutable as can be seen from the example below"
      ],
      "metadata": {
        "id": "g00wR3Zp6qfJ"
      }
    },
    {
      "cell_type": "code",
      "source": [
        "students = ['sam', 'pam', 'rocky', 'austin', 'steve', 'banner', 'tony', 'bruce', \n",
        "            'henry', 'clark', 'diana']\n",
        "characters = students\n",
        "print(characters)\n",
        "characters[1]= \"peter\"\n",
        "print(characters)\n",
        "print(students)"
      ],
      "metadata": {
        "colab": {
          "base_uri": "https://localhost:8080/"
        },
        "id": "2NLukIfx6uHr",
        "outputId": "138a2625-4f29-471c-d7a3-a5ff4243d037"
      },
      "execution_count": 48,
      "outputs": [
        {
          "output_type": "stream",
          "name": "stdout",
          "text": [
            "['sam', 'pam', 'rocky', 'austin', 'steve', 'banner', 'tony', 'bruce', 'henry', 'clark', 'diana']\n",
            "['sam', 'peter', 'rocky', 'austin', 'steve', 'banner', 'tony', 'bruce', 'henry', 'clark', 'diana']\n",
            "['sam', 'peter', 'rocky', 'austin', 'steve', 'banner', 'tony', 'bruce', 'henry', 'clark', 'diana']\n"
          ]
        }
      ]
    },
    {
      "cell_type": "markdown",
      "source": [
        "There are some useful functions for lists that you should get familier with.\n",
        "\n",
        "*len():* returns how many elements does the list has.\n",
        "*max():* returns the greatest element of a list.\n",
        "*min():* returns the smallest element of a list.\n",
        "*sorted():* returns a copy of the list, in order from smallest to the largest. leaving the orignal list unchanged\n",
        "max element in a list of integers is the largest integer, while in the case of string is the string that will come last if the list was sorted alphabetically."
      ],
      "metadata": {
        "id": "ztRsTPOi6xT0"
      }
    },
    {
      "cell_type": "code",
      "source": [
        "students = ['sam', 'pam', 'rocky', 'austin', 'steve', 'banner', 'tony', 'bruce', \n",
        "            'henry', 'clark', 'diana']\n",
        "\n",
        "student = \"barry\"\n",
        "\n",
        "print(max(students))\n",
        "print(max(student))"
      ],
      "metadata": {
        "colab": {
          "base_uri": "https://localhost:8080/"
        },
        "id": "6JIbq0Kv60PU",
        "outputId": "ceb33191-7b59-4b9b-a243-f94cea8656d9"
      },
      "execution_count": 49,
      "outputs": [
        {
          "output_type": "stream",
          "name": "stdout",
          "text": [
            "tony\n",
            "y\n"
          ]
        }
      ]
    },
    {
      "cell_type": "markdown",
      "source": [
        "a point to note is that even though you can have a list cntaining int and string a max function will be undefined upon such a list."
      ],
      "metadata": {
        "id": "zxU76D-u63Ek"
      }
    },
    {
      "cell_type": "code",
      "source": [
        "max([2, 'two'])"
      ],
      "metadata": {
        "colab": {
          "base_uri": "https://localhost:8080/",
          "height": 166
        },
        "id": "NtlkLZ-865QK",
        "outputId": "1f7cec73-b66f-44d1-f092-07a72b9de4cf"
      },
      "execution_count": 50,
      "outputs": [
        {
          "output_type": "error",
          "ename": "TypeError",
          "evalue": "ignored",
          "traceback": [
            "\u001b[0;31m---------------------------------------------------------------------------\u001b[0m",
            "\u001b[0;31mTypeError\u001b[0m                                 Traceback (most recent call last)",
            "\u001b[0;32m<ipython-input-50-89bfacf40baf>\u001b[0m in \u001b[0;36m<module>\u001b[0;34m\u001b[0m\n\u001b[0;32m----> 1\u001b[0;31m \u001b[0mmax\u001b[0m\u001b[0;34m(\u001b[0m\u001b[0;34m[\u001b[0m\u001b[0;36m2\u001b[0m\u001b[0;34m,\u001b[0m \u001b[0;34m'two'\u001b[0m\u001b[0;34m]\u001b[0m\u001b[0;34m)\u001b[0m\u001b[0;34m\u001b[0m\u001b[0;34m\u001b[0m\u001b[0m\n\u001b[0m",
            "\u001b[0;31mTypeError\u001b[0m: '>' not supported between instances of 'str' and 'int'"
          ]
        }
      ]
    },
    {
      "cell_type": "code",
      "source": [
        "characters = sorted(students)\n",
        "print(characters)"
      ],
      "metadata": {
        "colab": {
          "base_uri": "https://localhost:8080/"
        },
        "id": "jA_ymkQP684O",
        "outputId": "b5dc1ef5-9703-4580-adf8-3fdedbc08606"
      },
      "execution_count": 51,
      "outputs": [
        {
          "output_type": "stream",
          "name": "stdout",
          "text": [
            "['austin', 'banner', 'bruce', 'clark', 'diana', 'henry', 'pam', 'rocky', 'sam', 'steve', 'tony']\n"
          ]
        }
      ]
    },
    {
      "cell_type": "markdown",
      "source": [
        "*Join()* is an other useful function for lists(string lists), Join is a string method that takes a list of strings as an argument, and returns a string consisting of the list elements joined by a separator string. Look at the example below to understand."
      ],
      "metadata": {
        "id": "RnrdamKh7AdF"
      }
    },
    {
      "cell_type": "code",
      "source": [
        "sep_str = \"\\n\".join([\"Jack\", \"O\", \"Lantern\"])\n",
        "print(sep_str)"
      ],
      "metadata": {
        "colab": {
          "base_uri": "https://localhost:8080/"
        },
        "id": "QT4z4LcU7DM3",
        "outputId": "af8925bc-c837-4561-ac00-87685fb6255c"
      },
      "execution_count": 52,
      "outputs": [
        {
          "output_type": "stream",
          "name": "stdout",
          "text": [
            "Jack\n",
            "O\n",
            "Lantern\n"
          ]
        }
      ]
    },
    {
      "cell_type": "markdown",
      "source": [
        "In this example we use the string \"\\n\" as the separator so that there is a newline between each element. We can also use other strings as separators with .join. Here we use a hyphen."
      ],
      "metadata": {
        "id": "cwNNsvmg7HD5"
      }
    },
    {
      "cell_type": "code",
      "source": [
        "name = \"-\".join([\"Jack\", \"O\", \"Lantern\"])\n",
        "print(name)"
      ],
      "metadata": {
        "colab": {
          "base_uri": "https://localhost:8080/"
        },
        "id": "B6Ev9VWw7J87",
        "outputId": "96966da8-8869-40c8-e168-4b5377ce948f"
      },
      "execution_count": 53,
      "outputs": [
        {
          "output_type": "stream",
          "name": "stdout",
          "text": [
            "Jack-O-Lantern\n"
          ]
        }
      ]
    },
    {
      "cell_type": "markdown",
      "source": [
        "It is important to remember to separate each of the items in the list you are joining with a comma (,). Forgetting to do so will not trigger an error, but will also give you unexpected results.\n",
        "\n",
        "*append()* is an other useful method that adds an element to the end of a list."
      ],
      "metadata": {
        "id": "PtxyrzZ17MlL"
      }
    },
    {
      "cell_type": "code",
      "source": [
        "letters = ['a', 'b', 'c', 'd']\n",
        "letters.append('e')\n",
        "print(letters)"
      ],
      "metadata": {
        "colab": {
          "base_uri": "https://localhost:8080/"
        },
        "id": "ECmDGlbw7OqB",
        "outputId": "6351a95b-fee2-4d54-ee3e-0ab84a0ca607"
      },
      "execution_count": 54,
      "outputs": [
        {
          "output_type": "stream",
          "name": "stdout",
          "text": [
            "['a', 'b', 'c', 'd', 'e']\n"
          ]
        }
      ]
    },
    {
      "cell_type": "markdown",
      "source": [
        "Tuples:\n",
        "A tuple is another useful container. It's a data type for immutable ordered sequences of elements. They are often used to store related pieces of information. Consider this example involving (x, y, z) coordinates:"
      ],
      "metadata": {
        "id": "--6bbpAt7RJn"
      }
    },
    {
      "cell_type": "code",
      "source": [
        "vector = (4, 5, 9)\n",
        "print(\"x-coordinate:\", vector[0])\n",
        "print(\"y-coordinate:\", vector[1])\n",
        "print(\"z-coordinate:\", vector[2])"
      ],
      "metadata": {
        "colab": {
          "base_uri": "https://localhost:8080/"
        },
        "id": "PZ0UR_bF7VBB",
        "outputId": "a146413d-47a2-4691-8d20-dcf63e0b26b7"
      },
      "execution_count": 55,
      "outputs": [
        {
          "output_type": "stream",
          "name": "stdout",
          "text": [
            "x-coordinate: 4\n",
            "y-coordinate: 5\n",
            "z-coordinate: 9\n"
          ]
        }
      ]
    },
    {
      "cell_type": "markdown",
      "source": [
        "Tuples are similar to lists in that they store an ordered collection of objects which can be accessed by their indices. Unlike lists, however, tuples are immutable - you can't add and remove items from tuples, or sort them in place.\n",
        "\n",
        "Tuples can also be used to assign multiple variables in a compact way.\n",
        "\n",
        "The parentheses are optional when defining tuples, and programmers frequently omit them if parentheses don't clarify the code."
      ],
      "metadata": {
        "id": "mw-c_xSS7YBf"
      }
    },
    {
      "cell_type": "code",
      "source": [
        "location = 108.7774, 92.5556\n",
        "latitude, longtitude = location\n",
        "print(\"The coordinates are {} x {}\".format(latitude, longtitude))"
      ],
      "metadata": {
        "colab": {
          "base_uri": "https://localhost:8080/"
        },
        "id": "XEDr2-Fw7bD_",
        "outputId": "db5c1023-9845-4773-c7bd-9c4798bc4301"
      },
      "execution_count": 56,
      "outputs": [
        {
          "output_type": "stream",
          "name": "stdout",
          "text": [
            "The coordinates are 108.7774 x 92.5556\n"
          ]
        }
      ]
    },
    {
      "cell_type": "markdown",
      "source": [
        "In the second line, two variables are assigned from the content of the tuple location. This is called tuple unpacking. You can use tuple unpacking to assign the information from a tuple into multiple variables without having to access them one by one and make multiple assignment statements.\n",
        "\n",
        "If we won't need to use location directly, we could shorten those two lines of code into a single line that assigns three variables in one go!"
      ],
      "metadata": {
        "id": "V6Wa9OH07eFh"
      }
    },
    {
      "cell_type": "code",
      "source": [
        "location = 108.7774, 92.5556\n",
        "\n",
        "print(\"The coordinates are {} x {}\".format(latitude, longtitude))"
      ],
      "metadata": {
        "colab": {
          "base_uri": "https://localhost:8080/"
        },
        "id": "iIzev4R27gfr",
        "outputId": "afba1392-c21b-4801-ff71-13b3378a3473"
      },
      "execution_count": 57,
      "outputs": [
        {
          "output_type": "stream",
          "name": "stdout",
          "text": [
            "The coordinates are 108.7774 x 92.5556\n"
          ]
        }
      ]
    },
    {
      "cell_type": "markdown",
      "source": [
        "Dictionaries and Identity Operators:\n",
        "A dictionary is a mutable data type that stores mappings of unique keys to values. Here's a dictionary that stores elements and their atomic numbers."
      ],
      "metadata": {
        "id": "6loxMzkh7j5F"
      }
    },
    {
      "cell_type": "code",
      "source": [
        "elements = {\"hydrogen\": 1, \"helium\": 2, \"carbon\": 6}"
      ],
      "metadata": {
        "id": "IPRf-05X7mTj"
      },
      "execution_count": 58,
      "outputs": []
    },
    {
      "cell_type": "markdown",
      "source": [
        "Dictionaries can have keys of any immutable type, like integers or tuples, not just strings. It's not even necessary for every key to have the same type! We can look up values or insert new values in the dictionary using square brackets that enclose the key."
      ],
      "metadata": {
        "id": "Uh3ovg8-7p4L"
      }
    },
    {
      "cell_type": "code",
      "source": [
        "print(elements[\"helium\"])  # print the value mapped to \"helium\"\n",
        "elements[\"lithium\"] = 3  # insert \"lithium\" with a value of 3 into the dictionary"
      ],
      "metadata": {
        "colab": {
          "base_uri": "https://localhost:8080/"
        },
        "id": "DizQveyt7r9h",
        "outputId": "96ad9c65-d3fb-43a2-dce3-97dcb46b91e1"
      },
      "execution_count": 59,
      "outputs": [
        {
          "output_type": "stream",
          "name": "stdout",
          "text": [
            "2\n"
          ]
        }
      ]
    },
    {
      "cell_type": "markdown",
      "source": [
        "We can check whether a value is in a dictionary the same way we check whether a value is in a list or set with the in keyword. Dicts have a related method that's also useful, get(). get() looks up values in a dictionary, but unlike square brackets, get returns None (or a default value of your choice) if the key isn't found."
      ],
      "metadata": {
        "id": "7l2N7Wqb7vEM"
      }
    },
    {
      "cell_type": "code",
      "source": [
        "print(\"carbon\" in elements)\n",
        "print(elements.get(\"dilithium\"))"
      ],
      "metadata": {
        "colab": {
          "base_uri": "https://localhost:8080/"
        },
        "id": "bji8K4uN7xyq",
        "outputId": "2850221e-9e5a-4c81-d44c-9c8087853b18"
      },
      "execution_count": 60,
      "outputs": [
        {
          "output_type": "stream",
          "name": "stdout",
          "text": [
            "True\n",
            "None\n"
          ]
        }
      ]
    },
    {
      "cell_type": "markdown",
      "source": [
        "Carbon is in the dictionary, so *True* is printed. Dilithium isn’t in our dictionary so *None* is returned by get and then printed. If you expect lookups to sometimes fail, get might be a better tool than normal square bracket lookups because errors can crash your program."
      ],
      "metadata": {
        "id": "S2A6PeTG708v"
      }
    },
    {
      "cell_type": "markdown",
      "source": [
        "Keyword Operators:\n",
        "*is:* evaluates if both sides have the same identity\n",
        "*is not* evaluates if both sides have different identities\n",
        "You can check if a key returned *None* with the *is* operator. You can check for the opposite using *is not.*"
      ],
      "metadata": {
        "id": "T3CUp_pL732J"
      }
    },
    {
      "cell_type": "code",
      "source": [
        "n = elements.get(\"dilithium\")\n",
        "print(n is None)\n",
        "print(n is not None)"
      ],
      "metadata": {
        "colab": {
          "base_uri": "https://localhost:8080/"
        },
        "id": "OTRhu9wo76KE",
        "outputId": "ce0ac0f6-70aa-469e-b6e5-ac3120065e12"
      },
      "execution_count": 61,
      "outputs": [
        {
          "output_type": "stream",
          "name": "stdout",
          "text": [
            "True\n",
            "False\n"
          ]
        }
      ]
    },
    {
      "cell_type": "markdown",
      "source": [
        "Task:\n",
        "Define a dictionary named population that contains this data:\n",
        "\n",
        "Keys -> Values\n",
        "\n",
        "New York -> 17.8\n",
        "\n",
        "Spain -> 13.3\n",
        "\n",
        "Dhaka -> 13.0\n",
        "\n",
        "Mumbai -> 12.5"
      ],
      "metadata": {
        "id": "_5UXR2Ib7_aA"
      }
    },
    {
      "cell_type": "code",
      "source": [
        "population = {\"New York\":17.8, \"Spain\":13.3, \"Dhaka\":13.0, \"Mumbai\":12.5}\n",
        "print(population)"
      ],
      "metadata": {
        "colab": {
          "base_uri": "https://localhost:8080/"
        },
        "id": "1XVpu5ri8CEF",
        "outputId": "9fef0c32-6185-44ec-ab6c-ffd2c81b8d37"
      },
      "execution_count": 62,
      "outputs": [
        {
          "output_type": "stream",
          "name": "stdout",
          "text": [
            "{'New York': 17.8, 'Spain': 13.3, 'Dhaka': 13.0, 'Mumbai': 12.5}\n"
          ]
        }
      ]
    },
    {
      "cell_type": "markdown",
      "source": [
        "*Get()* with a Default Value:\n",
        "Dictionaries have a related method that's also useful, get(). get() looks up values in a dictionary, but unlike looking up values with square brackets, get() returns None (or a default value of your choice) if the key isn't found. If you expect lookups to sometimes fail, get() might be a better tool than normal square bracket lookups."
      ],
      "metadata": {
        "id": "QxlOzlqe8Eip"
      }
    },
    {
      "cell_type": "code",
      "source": [
        "print(population.get('London'))"
      ],
      "metadata": {
        "colab": {
          "base_uri": "https://localhost:8080/"
        },
        "id": "RwOeZoOB8IB0",
        "outputId": "237ba4b8-9fd3-4bde-f7d4-23cb7bb0ae88"
      },
      "execution_count": 63,
      "outputs": [
        {
          "output_type": "stream",
          "name": "stdout",
          "text": [
            "None\n"
          ]
        }
      ]
    },
    {
      "cell_type": "code",
      "source": [
        "population['London']"
      ],
      "metadata": {
        "colab": {
          "base_uri": "https://localhost:8080/",
          "height": 166
        },
        "id": "UJTobtPd8LBf",
        "outputId": "38a76094-0c99-4711-d2c4-7734ffbcf008"
      },
      "execution_count": 64,
      "outputs": [
        {
          "output_type": "error",
          "ename": "KeyError",
          "evalue": "ignored",
          "traceback": [
            "\u001b[0;31m---------------------------------------------------------------------------\u001b[0m",
            "\u001b[0;31mKeyError\u001b[0m                                  Traceback (most recent call last)",
            "\u001b[0;32m<ipython-input-64-9e2756bfca13>\u001b[0m in \u001b[0;36m<module>\u001b[0;34m\u001b[0m\n\u001b[0;32m----> 1\u001b[0;31m \u001b[0mpopulation\u001b[0m\u001b[0;34m[\u001b[0m\u001b[0;34m'London'\u001b[0m\u001b[0;34m]\u001b[0m\u001b[0;34m\u001b[0m\u001b[0;34m\u001b[0m\u001b[0m\n\u001b[0m",
            "\u001b[0;31mKeyError\u001b[0m: 'London'"
          ]
        }
      ]
    },
    {
      "cell_type": "code",
      "source": [
        "population.get('London', 'There\\'s no such place!')"
      ],
      "metadata": {
        "colab": {
          "base_uri": "https://localhost:8080/",
          "height": 35
        },
        "id": "0LXoCVka8OSX",
        "outputId": "6d4931a8-4d06-4465-aab6-1c1a80e6a669"
      },
      "execution_count": 65,
      "outputs": [
        {
          "output_type": "execute_result",
          "data": {
            "text/plain": [
              "\"There's no such place!\""
            ],
            "application/vnd.google.colaboratory.intrinsic+json": {
              "type": "string"
            }
          },
          "metadata": {},
          "execution_count": 65
        }
      ]
    },
    {
      "cell_type": "markdown",
      "source": [
        "In the last example we specified a default value (the string 'There's no such element!') to be returned instead of None when the key is not found."
      ],
      "metadata": {
        "id": "D9atQj4o8Ra3"
      }
    },
    {
      "cell_type": "markdown",
      "source": [
        "Compound Data Structures:\n",
        "Previously we have seen a dictonary called elements in which the element names are maped to their atomic numbers which are integers. But what if we want to store more information about each element like their atomic weight and symbol. We can do that by adjusting this dictionary so that it maps the element names to an other dictionary, that stores that collection of data."
      ],
      "metadata": {
        "id": "jBMFqSEY8T2X"
      }
    },
    {
      "cell_type": "code",
      "source": [
        "elements = {\"hydrogen\": {\"number\": 1,\n",
        "                         \"weight\": 1.00794,\n",
        "                         \"symbol\": \"H\"},\n",
        "              \"helium\": {\"number\": 2,\n",
        "                         \"weight\": 4.002602,\n",
        "                         \"symbol\": \"He\"}}"
      ],
      "metadata": {
        "id": "6brA03a88V6o"
      },
      "execution_count": 66,
      "outputs": []
    },
    {
      "cell_type": "markdown",
      "source": [
        "We can look up information about an element using this nested dictionary, using square brackets or the get() method."
      ],
      "metadata": {
        "id": "5eAakpUK8Ze-"
      }
    },
    {
      "cell_type": "code",
      "source": [
        "helium = elements[\"helium\"]  # get the helium dictionary\n",
        "hydrogen_weight = elements[\"hydrogen\"][\"weight\"]  # get hydrogen's weight\n",
        "\n",
        "print(helium)\n",
        "print(hydrogen_weight)"
      ],
      "metadata": {
        "colab": {
          "base_uri": "https://localhost:8080/"
        },
        "id": "LHFKqUcM8cEG",
        "outputId": "6052dfa8-69a5-4ede-959a-6e92a84cdf12"
      },
      "execution_count": 67,
      "outputs": [
        {
          "output_type": "stream",
          "name": "stdout",
          "text": [
            "{'number': 2, 'weight': 4.002602, 'symbol': 'He'}\n",
            "1.00794\n"
          ]
        }
      ]
    },
    {
      "cell_type": "markdown",
      "source": [
        "You can also add a new key to the element dictionary."
      ],
      "metadata": {
        "id": "jcmi4iEf8fAb"
      }
    },
    {
      "cell_type": "code",
      "source": [
        "oxygen = {\"number\":8,\"weight\":15.999,\"symbol\":\"O\"}  # create a new oxygen dictionary \n",
        "elements[\"oxygen\"] = oxygen  # assign 'oxygen' as a key to the elements dictionary\n",
        "\n",
        "print('elements = ', elements)"
      ],
      "metadata": {
        "colab": {
          "base_uri": "https://localhost:8080/"
        },
        "id": "Ym1-Fg0u8hgT",
        "outputId": "407dbc7f-19ef-46d9-cf48-5e3a6f5b0f93"
      },
      "execution_count": 68,
      "outputs": [
        {
          "output_type": "stream",
          "name": "stdout",
          "text": [
            "elements =  {'hydrogen': {'number': 1, 'weight': 1.00794, 'symbol': 'H'}, 'helium': {'number': 2, 'weight': 4.002602, 'symbol': 'He'}, 'oxygen': {'number': 8, 'weight': 15.999, 'symbol': 'O'}}\n"
          ]
        }
      ]
    },
    {
      "cell_type": "markdown",
      "source": [
        "Question:\n",
        "Try your hand at working with nested dictionaries. Add another entry, 'is_noble_gas,' to each dictionary in the elements dictionary. After inserting the new entries you should be able to perform these lookups:\n",
        "\n",
        "print(elements['hydrogen']['is_noble_gas'])\n",
        "\n",
        "False\n",
        "\n",
        "print(elements['helium']['is_noble_gas'])\n",
        "\n",
        "True"
      ],
      "metadata": {
        "id": "uRgF49lx8km9"
      }
    },
    {
      "cell_type": "code",
      "source": [
        "elements = {'hydrogen': {'number': 1, 'weight': 1.00794, 'symbol': 'H'},\n",
        "            'helium': {'number': 2, 'weight': 4.002602, 'symbol': 'He'}}\n",
        "\n",
        "# todo: Add an 'is_noble_gas' entry to the hydrogen and helium dictionaries\n",
        "# hint: helium is a noble gas, hydrogen isn't\n",
        "elements['helium']['is_noble_gas'] = True\n",
        "elements['hydrogen']['is_noble_gas'] = False"
      ],
      "metadata": {
        "id": "zqpx5TZ-8nfU"
      },
      "execution_count": 69,
      "outputs": []
    },
    {
      "cell_type": "code",
      "source": [
        "\n",
        "elements"
      ],
      "metadata": {
        "colab": {
          "base_uri": "https://localhost:8080/"
        },
        "id": "QbjdrX-a8t2o",
        "outputId": "17746795-c4e4-4ee1-fa74-e8d96b91d3c9"
      },
      "execution_count": 70,
      "outputs": [
        {
          "output_type": "execute_result",
          "data": {
            "text/plain": [
              "{'hydrogen': {'number': 1,\n",
              "  'weight': 1.00794,\n",
              "  'symbol': 'H',\n",
              "  'is_noble_gas': False},\n",
              " 'helium': {'number': 2,\n",
              "  'weight': 4.002602,\n",
              "  'symbol': 'He',\n",
              "  'is_noble_gas': True}}"
            ]
          },
          "metadata": {},
          "execution_count": 70
        }
      ]
    },
    {
      "cell_type": "markdown",
      "source": [
        "For Loops:\n",
        "Python has two kinds of loops - for loops and while loops. A for loop is used to \"iterate\", or do something repeatedly, over an iterable.\n",
        "\n",
        "An iterable is an object that can return one of its elements at a time. This can include sequence types, such as strings, lists, and tuples, as well as non-sequence types, such as dictionaries and files.\n",
        "\n",
        "Example:"
      ],
      "metadata": {
        "id": "djqotJvy-Es4"
      }
    },
    {
      "cell_type": "code",
      "source": [
        "cities = ['new york city', 'mountain view', 'chicago', 'los angeles']\n",
        "for city in cities:\n",
        "    print(city)\n",
        "print(\"Done!\")"
      ],
      "metadata": {
        "colab": {
          "base_uri": "https://localhost:8080/"
        },
        "id": "znZHJJ6e-J9U",
        "outputId": "9890a9d4-5684-4b9b-9d98-cffc9f222225"
      },
      "execution_count": 71,
      "outputs": [
        {
          "output_type": "stream",
          "name": "stdout",
          "text": [
            "new york city\n",
            "mountain view\n",
            "chicago\n",
            "los angeles\n",
            "Done!\n"
          ]
        }
      ]
    },
    {
      "cell_type": "markdown",
      "source": [
        "Components of a for Loop:\n",
        "The first line of the loop starts with the for keyword, which signals that this is a for loop\n",
        "Following that is city in cities, indicating city is the iteration variable, and cities is the iterable being looped over. In the first iteration of the loop, city gets the value of the first element in cities, which is “new york city”.\n",
        "The for loop heading line always ends with a colon :\n",
        "Following the for loop heading is an indented block of code, the body of the loop, to be executed in each iteration of this loop. There is only one line in the body of this loop - print(city).\n",
        "After the body of the loop has executed, we don't move on to the next line yet; we go back to the for heading line, where the iteration variable takes the value of the next element of the iterable. In the second iteration of the loop above, city takes the value of the next element in cities, which is \"mountain view\".\n",
        "This process repeats until the loop has iterated through all the elements of the iterable. Then, we move on to the line that follows the body of the loop - in this case, print(\"Done!\"). We can tell what the next line after the body of the loop is because it is unindented. Here is another reason why paying attention to your indentation is very important in Python!\n",
        "You can name iteration variables however you like. A common pattern is to give the iteration variable and iterable the same names, except the singular and plural versions respectively (e.g., 'city' and 'cities')."
      ],
      "metadata": {
        "id": "Ii7npFTG-M-2"
      }
    },
    {
      "cell_type": "markdown",
      "source": [
        "Using the range() Function with for Loops:\n",
        "range() is a built-in function used to create an iterable sequence of numbers. You will frequently use range() with a for loop to repeat an action a certain number of times, as in this example:"
      ],
      "metadata": {
        "id": "m1uQYu8e-Q1u"
      }
    },
    {
      "cell_type": "code",
      "source": [
        "for i in range(3):\n",
        "    print(\"Hello!\")"
      ],
      "metadata": {
        "colab": {
          "base_uri": "https://localhost:8080/"
        },
        "id": "N4IHR6q9-TeL",
        "outputId": "54247ab7-587e-4eac-fca5-debc9046b403"
      },
      "execution_count": 72,
      "outputs": [
        {
          "output_type": "stream",
          "name": "stdout",
          "text": [
            "Hello!\n",
            "Hello!\n",
            "Hello!\n"
          ]
        }
      ]
    },
    {
      "cell_type": "markdown",
      "source": [
        "range(start=0, stop, step=1)\n",
        "The range() function takes three integer arguments, the first and third of which are optional:\n",
        "\n",
        "The 'start' argument is the first number of the sequence. If unspecified, 'start' defaults to 0.\n",
        "The 'stop' argument is 1 more than the last number of the sequence. This argument must be specified.\n",
        "The 'step' argument is the difference between each number in the sequence. If unspecified, 'step' defaults to 1.\n",
        "Notes on using range():\n",
        "\n",
        "If you specify one integer inside the parentheses withrange(), it's used as the value for 'stop,' and the defaults are used for the other two. Example-\n"
      ],
      "metadata": {
        "id": "UEsAwHDI-WVf"
      }
    },
    {
      "cell_type": "code",
      "source": [
        "for i in range(4):\n",
        "  print(i)"
      ],
      "metadata": {
        "colab": {
          "base_uri": "https://localhost:8080/"
        },
        "id": "Kj7b4R7j-aEF",
        "outputId": "6a66efb2-0e39-4a85-cc2d-53b35911f743"
      },
      "execution_count": 73,
      "outputs": [
        {
          "output_type": "stream",
          "name": "stdout",
          "text": [
            "0\n",
            "1\n",
            "2\n",
            "3\n"
          ]
        }
      ]
    },
    {
      "cell_type": "markdown",
      "source": [
        "If you specify two integers inside the parentheses withrange(), they're used for 'start' and 'stop,' and the default is used for 'step.' Example-"
      ],
      "metadata": {
        "id": "SOoZNlZZ-c0m"
      }
    },
    {
      "cell_type": "code",
      "source": [
        "for i in range(2, 6):\n",
        "  print(i)"
      ],
      "metadata": {
        "colab": {
          "base_uri": "https://localhost:8080/"
        },
        "id": "cssiwnbB-gnE",
        "outputId": "42241c63-3c4e-4dda-d432-a6a048522b77"
      },
      "execution_count": 74,
      "outputs": [
        {
          "output_type": "stream",
          "name": "stdout",
          "text": [
            "2\n",
            "3\n",
            "4\n",
            "5\n"
          ]
        }
      ]
    },
    {
      "cell_type": "markdown",
      "source": [
        "Or you can specify all three integers for 'start', 'stop', and 'step.' Example-"
      ],
      "metadata": {
        "id": "gGj4zeCj-kok"
      }
    },
    {
      "cell_type": "code",
      "source": [
        "for i in range(1, 10, 2):\n",
        "  print(i)"
      ],
      "metadata": {
        "colab": {
          "base_uri": "https://localhost:8080/"
        },
        "id": "oiHLmIp8-m2g",
        "outputId": "9549fc55-b6fe-42bb-88d1-ab26a24a3588"
      },
      "execution_count": 75,
      "outputs": [
        {
          "output_type": "stream",
          "name": "stdout",
          "text": [
            "1\n",
            "3\n",
            "5\n",
            "7\n",
            "9\n"
          ]
        }
      ]
    }
  ]
}